{
  "nbformat": 4,
  "nbformat_minor": 0,
  "metadata": {
    "colab": {
      "provenance": [],
      "authorship_tag": "ABX9TyPMD47F/EYi06YXXuyAR8mO",
      "include_colab_link": true
    },
    "kernelspec": {
      "name": "python3",
      "display_name": "Python 3"
    },
    "language_info": {
      "name": "python"
    }
  },
  "cells": [
    {
      "cell_type": "markdown",
      "metadata": {
        "id": "view-in-github",
        "colab_type": "text"
      },
      "source": [
        "<a href=\"https://colab.research.google.com/github/nestorpp/CANALES-NESP/blob/main/tarea_nestor_2.ipynb\" target=\"_parent\"><img src=\"https://colab.research.google.com/assets/colab-badge.svg\" alt=\"Open In Colab\"/></a>"
      ]
    },
    {
      "cell_type": "code",
      "source": [],
      "metadata": {
        "id": "8uA7-KrQrtMW"
      },
      "execution_count": null,
      "outputs": []
    },
    {
      "cell_type": "code",
      "source": [
        "# una tienda ofrese un descuento de 15% sobre el total de la compra\n",
        "# y un cliente desea seber cuanto debera pagar finalmente por su compra\n",
        "\n",
        "# variable compra\n",
        "compra = float(input(\"valor del producto\"))\n",
        "# descuento del 10% por cada producto\n",
        "promedio = compra *0.15\n",
        "# total a pagar po el valo de la compra\n",
        "Total = compra - promedio\n",
        "print(\"el total de la compra es: {:,.0f} mil pesos y el 15% de decuento equibale a :{:,.0f} mil pesos y el total a pagar es de: {:,.0f} mil pesos\".format(compra,promedio,Total))\n",
        "                                                                                                                                                          "
      ],
      "metadata": {
        "colab": {
          "base_uri": "https://localhost:8080/"
        },
        "id": "h269efOercKW",
        "outputId": "864f8bac-e880-4cb1-a359-8b9517b6485d"
      },
      "execution_count": null,
      "outputs": [
        {
          "output_type": "stream",
          "name": "stdout",
          "text": [
            "valor del producto2000000\n",
            "el total de la compra es: 2,000,000 mil pesos y el 15% de decuento equibale a :300,000 mil pesos y el total a pagar es de: 1,700,000 mil pesos\n"
          ]
        }
      ]
    },
    {
      "cell_type": "code",
      "source": [
        "# un alumno desea saber cual sera su calificacion final en la materia de algoritmos\n",
        "# dicha calificacio se compone de tres examenes particulares\n",
        "\n",
        "# variable alumno\n",
        "Alumno = input(\"nombre del alumno\")\n",
        "Examen_1 = float(input(\"valor del primer examem :\"))\n",
        "Examen_2 = float(input(\"valor del segundo examem :\"))\n",
        "Examen_3 = float(input(\"valor del tercer examem :\"))\n",
        "\n",
        "print(Alumno)\n",
        "print(\"NOTA PRIMER EXAMEN {} \".format(Examen_1))\n",
        "print(\"NOTA SEGUNDO EXAMEN {} \".format(Examen_2))\n",
        "print(\"NOTA TERCER EXAMEN {} \".format(Examen_3))\n",
        "\n",
        "Nota_final = Examen_1 + Examen_2 + Examen_3\n",
        "\n",
        "PROMEDIO_FINAL=Nota_final / 3\n",
        "\n",
        "print(\"NOTA FINAL ES : {} \".format(PROMEDIO_FINAL))\n",
        "\n"
      ],
      "metadata": {
        "colab": {
          "base_uri": "https://localhost:8080/"
        },
        "id": "kwvHDj6-6EkM",
        "outputId": "196116d5-f7e4-4268-df68-21589d60e5e7"
      },
      "execution_count": null,
      "outputs": [
        {
          "output_type": "stream",
          "name": "stdout",
          "text": [
            "nombre del alumnoPEDRO PEREZ\n",
            "valor del primer examem :6.7\n",
            "valor del segundo examem :7.8\n",
            "valor del tercer examem :8.9\n",
            "PEDRO PEREZ\n",
            "NOTA PRIMER EXAMEN 6.7 \n",
            "NOTA SEGUNDO EXAMEN 7.8 \n",
            "NOTA TERCER EXAMEN 8.9 \n",
            "NOTA FINAL ES : 7.8 \n"
          ]
        }
      ]
    },
    {
      "cell_type": "code",
      "source": [
        "# un maestro desea saber que porsentaje de hombres y que porsentaje de mujeres \n",
        "# hay en un grupo de estudiantes.\n",
        "\n",
        "\n",
        "Profesor = input(\"nombre del profesor\")\n",
        "Numero_de_mujeres = float(input(\"cantidad de mujeres :\"))\n",
        "Numero_de_hombres = float(input(\"cantidad de hombres :\"))\n",
        "\n",
        "Total = Numero_de_mujeres + Numero_de_hombres\n",
        "\n",
        "Porcentaje_muj = (Numero_de_mujeres / Total) * 100,\"%\"\n",
        "Porcentaje_hom = (Numero_de_hombres / Total) * 100,\"%\"\n",
        "#promedio_hom = Numero_de_hombres * 0.100\n",
        "#promedio_muj = Numero_de_mujeres * 0.100\n",
        "\n",
        "#print(\"EL PORCENTAJE ES : {} \".format(Porcentaje_muj))\n",
        "\n",
        "print(\"PORSENTAJE_HOMBRES : {} Y PORCENTAJE_MUJERES {} \".format(Porcentaje_muj , Porcentaje_hom))"
      ],
      "metadata": {
        "colab": {
          "base_uri": "https://localhost:8080/"
        },
        "id": "mMfhZPYqmNrW",
        "outputId": "21aec8df-e421-4293-fa8e-0e3e9471c60a"
      },
      "execution_count": null,
      "outputs": [
        {
          "output_type": "stream",
          "name": "stdout",
          "text": [
            "nombre del profesorpedro torres\n",
            "cantidad de mujeres :60\n",
            "cantidad de hombres :40\n",
            "PORSENTAJE_HOMBRES : (60.0, '%') Y PORCENTAJE_MUJERES (40.0, '%') \n"
          ]
        }
      ]
    },
    {
      "cell_type": "code",
      "source": [
        "identificacion = input(\"dijite numero de cedula :\")\n",
        "nombre = input(\"dijite su nombre :\")\n",
        "apellido = input(\"dijite su apellido :\")\n",
        "telefono = input(\"dijite numero de telefono :\")\n",
        "direccion = input(\"dijite numero de direccion :\")\n",
        "edad = input(\"dijite numero de años :\")\n",
        "estatura = input(\"dijite su estatura en centimetros :\")\n",
        "estado_civil = input(\"dijite su estado civil :\")\n",
        "numero_de_hijos = input(\"dijita la cantidad de hijos :\")\n",
        "sueldo = input(\"dijite el total de salario que debenge :\")\n",
        "dias_laborados = input(\"dijite dias laborados en la empresa :\")\n",
        "fecha_de_contratacion = input(\"la fecha en que te contrataron dd/mm/aaaa :\")\n",
        "print(identificacion)\n",
        "print(nombre)\n",
        "print(apellido)\n",
        "print(telefono)\n",
        "print(direccion)\n",
        "print(edad)\n",
        "print(estatura)\n",
        "print(estado_civil)\n",
        "print(numero_de_hijos)\n",
        "print(sueldo)\n",
        "print(dias_laborados)\n",
        "print(fecha_de_contratacion)"
      ],
      "metadata": {
        "colab": {
          "base_uri": "https://localhost:8080/"
        },
        "id": "Xvheyh4B-QnK",
        "outputId": "334a6807-4de6-43c4-aeba-9f8d9e55c1b0"
      },
      "execution_count": null,
      "outputs": [
        {
          "output_type": "stream",
          "name": "stdout",
          "text": [
            "dijite numero de cedula :jhkjkhjkh\n",
            "dijite su nombre :gggjgjhjhh\n",
            "dijite su apellido : vbbvbbbn\n",
            "dijite numero de telefono :67657657\n",
            "dijite numero de direccion :ghjjgkgg\n",
            "dijite numero de años :56\n",
            "dijite su estatura en centimetros :178\n",
            "dijite su estado civil :casado\n",
            "dijita la cantidad de hijos :5\n",
            "dijite el total de salario que debenge :167788\n",
            "dijite dias laborados en la empresa :345\n",
            "la fecha en que te contrataron dd/mm/aaaa :12/03/2023\n",
            "jhkjkhjkh\n",
            "gggjgjhjhh\n",
            " vbbvbbbn\n",
            "67657657\n",
            "ghjjgkgg\n",
            "56\n",
            "178\n",
            "casado\n",
            "5\n",
            "167788\n",
            "345\n",
            "12/03/2023\n"
          ]
        }
      ]
    },
    {
      "cell_type": "code",
      "source": [],
      "metadata": {
        "id": "9PM2Jhzwr_a2"
      },
      "execution_count": null,
      "outputs": []
    },
    {
      "cell_type": "code",
      "source": [
        "from prompt_toolkit.filters import to_filter\n",
        "identificacion = input(\"dijite numero de cedula :\")\n",
        "nombre = input(\"dijite su nombre :\")\n",
        "apellido = input(\"dijite su apellido :\")\n",
        "telefono = input(\"dijite numero de telefono :\")\n",
        "direccion = input(\"dijite numero de direccion :\")\n",
        "edad = int(input(\"dijite su edad:\"))\n",
        "\n",
        "sueldo = int(input(\"Digite el valor de tu Salario:\"))\n",
        "promedio = sueldo *0.05\n",
        "promedio2 = sueldo *0.02\n",
        "salario = sueldo + promedio\n",
        "salario2 = sueldo + promedio2\n",
        "\n",
        "\n",
        "if sueldo >= 1000000 and sueldo < 1500000:  \n",
        "  print(\"como tu sueldo es de ${:,.0f} tienes un incremento del 5% que equivale a {:,.0f} por lo cual tu sueldo quedara en un total de ${:,.0f}\".format(sueldo,promedio,salario))\n",
        "elif sueldo >= 1500000 and sueldo < 2000000:\n",
        "  print(\"como tu sueldo es de ${:,.0f} tienes un incremento del 2% que equivale a {:,.0f} por lo cual tu sueldo quedara en un total de ${:,.0f}\".format(sueldo,promedio2,salario2))\n",
        "elif sueldo >= 2000000 :\n",
        "  print(\"como tu sueldo es superior a 2000000 no hay razon para un aumento\")\n",
        " \n",
        "promedio3 = sueldo *0.05\n",
        "Total = sueldo + promedio3\n",
        "if edad >= 55:\n",
        " print(\"como tienes {:,.0f} años de edad podras recibir un bono del 5% de tu salario que es igual a {:,.0f} mil pesos y el total de tu salirio quedaria en : {:,.0f} mil pesos\".format(edad,promedio3,Total))\n",
        "else:\n",
        " print(\"no tienes la edad suficiente para recibir el bono adicional\")\n",
        "estatura = input(\"dijite su estatura en centimetros :\")\n",
        "estado_civil = input(\"dijite su estado civil :\")\n",
        "numero_de_hijos = input(\"dijita la cantidad de hijos :\")\n",
        "if estado_civil == \"casado\":\n",
        " print(\"Si tu estado civil es {} y tienes hijos {} tienes derecho a un paseo en diciembre\".format(estado_civil,numero_de_hijos))\n",
        "else: \n",
        " print(\"Si tu estado civil es soltero no tienes derecho al paseo\")\n",
        "dias_laborados = input(\"dijite dias laborados en la empresa :\")\n",
        "fecha_de_contratacion = input(\"la fecha en que te contrataron dd/mm/aaaa :\")\n",
        "print(identificacion)\n",
        "print(nombre)\n",
        "print(apellido)\n",
        "print(telefono)\n",
        "print(direccion)\n",
        "print(edad)\n",
        "print(estatura)\n",
        "print(estado_civil)\n",
        "print(numero_de_hijos)\n",
        "print(sueldo)\n",
        "print(dias_laborados)\n",
        "print(fecha_de_contratacion)"
      ],
      "metadata": {
        "id": "tIDTz3wD_QHG",
        "colab": {
          "base_uri": "https://localhost:8080/"
        },
        "outputId": "9acbf04b-cb07-4329-a38c-bacb21cdc730"
      },
      "execution_count": 31,
      "outputs": [
        {
          "output_type": "stream",
          "name": "stdout",
          "text": [
            "dijite numero de cedula :8054278\n",
            "dijite su nombre :juan \n",
            "dijite su apellido :pachon\n",
            "dijite numero de telefono :3224567890\n",
            "dijite numero de direccion :calle 5 # 56_89\n",
            "dijite su edad:56\n",
            "Digite el valor de tu Salario:1300000\n",
            "como tu sueldo es de $1,300,000 tienes un incremento del 5% que equivale a 65,000 por lo cual tu sueldo quedara en un total de $1,365,000\n",
            "como tienes 56 años de edad podras recibir un bono del 5% de tu salario que es igual a 65,000 mil pesos y el total de tu salirio quedaria en : 1,365,000 mil pesos\n",
            "dijite su estatura en centimetros :1.78 cm\n",
            "dijite su estado civil :casado\n",
            "dijita la cantidad de hijos :3\n",
            "Si tu estado civil es casado y tienes hijos 3 tienes derecho a un paseo en diciembre\n",
            "dijite dias laborados en la empresa :5678\n",
            "la fecha en que te contrataron dd/mm/aaaa :23/8/2023\n",
            "8054278\n",
            "juan \n",
            "pachon\n",
            "3224567890\n",
            "calle 5 # 56_89\n",
            "56\n",
            "1.78 cm\n",
            "casado\n",
            "3\n",
            "1300000\n",
            "5678\n",
            "23/8/2023\n"
          ]
        }
      ]
    },
    {
      "cell_type": "code",
      "source": [
        "sueldo = float(input(\"valor del sueldo\"))\n",
        "promedio = sueldo *0.10\n",
        "Total = sueldo + promedio\n",
        "print(\"el total de la compra es: {:,.0f} mil pesos y el 15% de decuento equibale a :{:,.0f} mil pesos y el total a pagar es de: {:,.0f} mil pesos\".format(compra,promedio,Total))\n",
        "                                                                                                                                                          "
      ],
      "metadata": {
        "colab": {
          "base_uri": "https://localhost:8080/"
        },
        "id": "tL4WxFF0nGfM",
        "outputId": "02ff48fe-3f6f-4c87-ea54-df9d9a42ce7a"
      },
      "execution_count": null,
      "outputs": [
        {
          "output_type": "stream",
          "name": "stdout",
          "text": [
            "valor del sueldo1200000\n",
            "el total de la compra es: 400,000 mil pesos y el 15% de decuento equibale a :120,000 mil pesos y el total a pagar es de: 1,320,000 mil pesos\n"
          ]
        }
      ]
    },
    {
      "cell_type": "code",
      "source": [
        "edad = input(\"dijite su edad:\")\n",
        "\n",
        "sueldo = float(input(\"valor del producto\"))\n",
        "promedio = sueldo *0.10\n",
        "Total = sueldo + promedio\n",
        "print(\"el total de la compra es: {:,.0f} mil pesos y el 15% de decuento equibale a :{:,.0f} mil pesos y el total a pagar es de: {:,.0f} mil pesos\".format(compra,promedio,Total))"
      ],
      "metadata": {
        "id": "UuJnGC0wDfEq"
      },
      "execution_count": null,
      "outputs": []
    },
    {
      "cell_type": "code",
      "source": [
        "edad = int(input(\"dijite su edad:\"))\n",
        "if edad >= 55:   \n",
        " print(\"tienes derecho al bono adiciona\")\n",
        "else:\n",
        " print(\"no tienes derecho al bono adicio\")"
      ],
      "metadata": {
        "colab": {
          "base_uri": "https://localhost:8080/"
        },
        "id": "1GGyeCF7nGUN",
        "outputId": "ef3e97da-a2fa-4dc2-a705-8b2ef44ab0ab"
      },
      "execution_count": null,
      "outputs": [
        {
          "output_type": "stream",
          "name": "stdout",
          "text": [
            "dijite su edad:67\n",
            "tienes derecho al bono adiciona\n"
          ]
        }
      ]
    },
    {
      "cell_type": "code",
      "source": [
        "edad = int(input(\"dijite su edad:\"))\n",
        "sueldo = float(input(\"valor del sueldo\"))\n",
        "promedio = sueldo *0.05\n",
        "Total = sueldo + promedio\n",
        "if edad >= 55:   \n",
        " print(\"como tienes {:,.0f} años de edad podras recibir un bono del 10 % de tu salario que es igual a {:,.0f} mil pesos y el total de tu salirio quedaria en : {:,.0f} mil pesos\".format(edad,promedio,Total))\n",
        "else:\n",
        " print(\"no tienes la edad suficiente para recibir el bono adicional\")"
      ],
      "metadata": {
        "id": "a1ERZsFKuVNE"
      },
      "execution_count": null,
      "outputs": []
    },
    {
      "cell_type": "code",
      "source": [
        "estado_civil = input(\"dijite su estado civil :\")\n",
        "numero_de_hijos = input(\"dijita la cantidad de hijos :\")\n",
        "if estado_civil == \"casado\":\n",
        " print(\"Si tu {} civil es casado tienes derecho a un paseo\".format(estado_civil))\n",
        "else: \n",
        " print(\"Si tu estado civil es soltero no tienes derecho al paseo\")"
      ],
      "metadata": {
        "id": "Lk2IRA9R1yZR",
        "colab": {
          "base_uri": "https://localhost:8080/"
        },
        "outputId": "1991fbdd-e568-487b-970f-e3887fff0b23"
      },
      "execution_count": 2,
      "outputs": [
        {
          "output_type": "stream",
          "name": "stdout",
          "text": [
            "dijite su estado civil :soltero\n",
            "dijita la cantidad de hijos :0\n",
            "Si tu estado civil es soltero no tienes derecho al paseo\n"
          ]
        }
      ]
    },
    {
      "cell_type": "code",
      "source": [
        "numero_hijos = int(input(\"dijite tu numero de hijos:\"))\n",
        "if numero_hijos >= 1:\n",
        " print(\"tienes derecho al paseo\")\n",
        "else:\n",
        " print(\"no tienes derecho a paseo\")"
      ],
      "metadata": {
        "id": "VoCqui5X70Hz"
      },
      "execution_count": null,
      "outputs": []
    },
    {
      "cell_type": "code",
      "source": [
        "estado_civil = input(\"dijite su estado civil :\")\n",
        "numero_de_hijos = input(\"dijita la cantidad de hijos :\")\n",
        "if estado_civil == \"casado\"   \n",
        " print(\"Si tu estado civil es {} y tienes {} hijos tienes derecho a un paseo\".format(estado_civil))\n",
        "else: \n",
        " estado_civil == \"soltero\" \n",
        " print(\"Si tu estado civil es {} y tienes {} hijos no tienes derecho a un paseo\".format(estado_civil))\n",
        "if numero_hijos >= 1:\n",
        " print(\"tienes derecho al paseo\")\n",
        "else:\n",
        " print(\"no tienes derecho a paseo\")"
      ],
      "metadata": {
        "id": "2AQWYRJRAt6G"
      },
      "execution_count": null,
      "outputs": []
    },
    {
      "cell_type": "code",
      "source": [
        "sueldo = int(input(\"Digite Salario:\"))\n",
        "promedio = sueldo *0.05\n",
        "promedio2 = sueldo *0.02\n",
        "salario = sueldo + promedio\n",
        "salario2 = sueldo + promedio2\n",
        "if sueldo >= 1000000 and sueldo < 1500000:  \n",
        "  print(\"como tu sueldo es de ${:,.0f} tienes un incremento del 5% que equivale a {:,.0f} por lo cual tu sueldo quedara en un total de ${:,.0f}\".format(sueldo,promedio,salario))\n",
        "elif sueldo >= 1500000 and sueldo < 2000000:\n",
        "  print(\"como tu sueldo es de ${:,.0f} tienes un incremento del 2% que equivale a {:,.0f} por lo cual tu sueldo quedara en un total de ${:,.0f}\".format(sueldo,promedio2,salario2))\n",
        "elif sueldo >= 2000000 :\n",
        "  print(\"como tu sueldo es superior a 2000000 no hay razon para un aumento\")"
      ],
      "metadata": {
        "colab": {
          "base_uri": "https://localhost:8080/"
        },
        "id": "lAIe6RSCcE9d",
        "outputId": "2abb1e76-7050-4b39-af41-e50cc154709c"
      },
      "execution_count": 29,
      "outputs": [
        {
          "output_type": "stream",
          "name": "stdout",
          "text": [
            "Digite Salario:1300000\n",
            "como tu sueldo es de $1,300,000 tienes un incremento del 5% que equivale a 65,000 por lo cual tu sueldo quedara en un total de $1,365,000\n"
          ]
        }
      ]
    },
    {
      "cell_type": "code",
      "source": [
        "from prompt_toolkit.filters import to_filter\n",
        "identificacion = input(\"dijite numero de cedula :\")\n",
        "nombre = input(\"dijite su nombre :\")\n",
        "apellido = input(\"dijite su apellido :\")\n",
        "telefono = input(\"dijite numero de telefono :\")\n",
        "direccion = input(\"dijite numero de direccion :\")\n",
        "edad = int(input(\"dijite su edad:\"))\n",
        "\n",
        "sueldo = int(input(\"Digite el valor de tu Salario:\"))\n",
        "promedio = sueldo *0.05\n",
        "promedio2 = sueldo *0.02\n",
        "salario = sueldo + promedio\n",
        "salario2 = sueldo + promedio2\n",
        "\n",
        "\n",
        "if sueldo >= 1000000 and sueldo < 1500000:  \n",
        "  print(\"como tu sueldo es de ${:,.0f} tienes un incremento del 5% que equivale a {:,.0f} por lo cual tu sueldo quedara en un total de ${:,.0f}\".format(sueldo,promedio,salario))\n",
        "elif sueldo >= 1500000 and sueldo < 2000000:\n",
        "  print(\"como tu sueldo es de ${:,.0f} tienes un incremento del 2% que equivale a {:,.0f} por lo cual tu sueldo quedara en un total de ${:,.0f}\".format(sueldo,promedio2,salario2))\n",
        "elif sueldo >= 2000000 :\n",
        "  print(\"como tu sueldo es superior a 2000000 no hay razon para un aumento\")\n",
        " \n",
        "promedio3 = sueldo *0.05\n",
        "Total = sueldo + promedio3\n",
        "if edad >= 55:\n",
        " print(\"como tienes {:,.0f} años de edad podras recibir un bono del 5% de tu salario que es igual a {:,.0f} mil pesos y el total de tu salirio quedaria en : {:,.0f} mil pesos\".format(edad,promedio3,Total))\n",
        "else:\n",
        " print(\"no tienes la edad suficiente para recibir el bono adicional\")\n",
        "estatura = input(\"dijite su estatura en centimetros :\")\n",
        "estado_civil = input(\"dijite su estado civil :\")\n",
        "numero_de_hijos = input(\"dijita la cantidad de hijos :\")\n",
        "if estado_civil == \"casado\":\n",
        " print(\"Si tu estado civil es {} y tienes hijos {} tienes derecho a un paseo en diciembre\".format(estado_civil,numero_de_hijos))\n",
        "else: \n",
        " print(\"Si tu estado civil es soltero no tienes derecho al paseo\")\n",
        "dias_laborados = input(\"dijite dias laborados en la empresa :\")\n",
        "fecha_de_contratacion = input(\"la fecha en que te contrataron dd/mm/aaaa :\")\n",
        "print(identificacion)pov\n",
        "print(nombre)\n",
        "print(apellido)\n",
        "print(telefono)\n",
        "print(direccion)\n",
        "print(edad)\n",
        "print(estatura)\n",
        "print(estado_civil)\n",
        "print(numero_de_hijos)\n",
        "print(sueldo)\n",
        "print(dias_laborados)\n",
        "print(fecha_de_contratacion)"
      ],
      "metadata": {
        "colab": {
          "base_uri": "https://localhost:8080/"
        },
        "id": "JMRPRLC_JB20",
        "outputId": "7b79a011-f5cf-49da-b8e2-5adec882f36f"
      },
      "execution_count": 32,
      "outputs": [
        {
          "output_type": "stream",
          "name": "stdout",
          "text": [
            "dijite numero de cedula :80654876\n",
            "dijite su nombre :nestor\n",
            "dijite su apellido :poveda\n",
            "dijite numero de telefono :322456987\n",
            "dijite numero de direccion :calle 5 # 3_67\n",
            "dijite su edad:56\n",
            "Digite el valor de tu Salario:2300000\n",
            "como tu sueldo es superior a 2000000 no hay razon para un aumento\n",
            "como tienes 56 años de edad podras recibir un bono del 5% de tu salario que es igual a 115,000 mil pesos y el total de tu salirio quedaria en : 2,415,000 mil pesos\n",
            "dijite su estatura en centimetros :1.80 cm\n",
            "dijite su estado civil :casado\n",
            "dijita la cantidad de hijos :2\n",
            "Si tu estado civil es casado y tienes hijos 2 tienes derecho a un paseo en diciembre\n",
            "dijite dias laborados en la empresa :2345\n",
            "la fecha en que te contrataron dd/mm/aaaa :12/9/2023\n",
            "80654876\n",
            "nestor\n",
            "poveda\n",
            "322456987\n",
            "calle 5 # 3_67\n",
            "56\n",
            "1.80 cm\n",
            "casado\n",
            "2\n",
            "2300000\n",
            "2345\n",
            "12/9/2023\n"
          ]
        }
      ]
    }
  ]
}